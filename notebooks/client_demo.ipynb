{
 "cells": [
  {
   "cell_type": "code",
   "execution_count": null,
   "metadata": {},
   "outputs": [],
   "source": [
    "import requests\n",
    "headers = {'Authorization': 'Bearer demo-token'}\n",
    "resp = requests.get('http://localhost:5000/sessions', headers=headers)\n",
    "print(resp.json())"
   ]
  }
 ],
 "metadata": {},
 "nbformat": 4,
 "nbformat_minor": 4
}